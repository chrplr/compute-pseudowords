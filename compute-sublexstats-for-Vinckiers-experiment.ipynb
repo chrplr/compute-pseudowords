{
 "cells": [
  {
   "cell_type": "markdown",
   "metadata": {},
   "source": [
    "## Compute the sublexical statistics for Vinckier et al's items"
   ]
  },
  {
   "cell_type": "code",
   "execution_count": 1,
   "metadata": {},
   "outputs": [
    {
     "name": "stderr",
     "output_type": "stream",
     "text": [
      "/home/cp983411/anaconda3/lib/python3.6/importlib/_bootstrap.py:219: RuntimeWarning: numpy.dtype size changed, may indicate binary incompatibility. Expected 96, got 88\n",
      "  return f(*args, **kwds)\n",
      "/home/cp983411/anaconda3/lib/python3.6/importlib/_bootstrap.py:219: RuntimeWarning: numpy.dtype size changed, may indicate binary incompatibility. Expected 96, got 88\n",
      "  return f(*args, **kwds)\n",
      "/home/cp983411/anaconda3/lib/python3.6/importlib/_bootstrap.py:219: RuntimeWarning: numpy.dtype size changed, may indicate binary incompatibility. Expected 96, got 88\n",
      "  return f(*args, **kwds)\n"
     ]
    }
   ],
   "source": [
    "import pandas as pd"
   ]
  },
  {
   "cell_type": "code",
   "execution_count": 2,
   "metadata": {},
   "outputs": [],
   "source": [
    "import pickle\n",
    "\n",
    "# load Vinckier's items\n",
    "vinckier_matos = pickle.load(open('old_vinckier_stimuli.pkl', 'rb'))"
   ]
  },
  {
   "cell_type": "code",
   "execution_count": 3,
   "metadata": {},
   "outputs": [],
   "source": [
    "# import french sublexical statistics\n",
    "\n",
    "from sublexstats import sublexstats\n",
    "\n",
    "fr_books = sublexstats()\n",
    "fr_books.load('french-freqbooks.sublexstats')\n",
    "#fr_books.import_csv('french-freqbooks.csv', caching=True)\n",
    "\n",
    "fr_films = sublexstats()\n",
    "fr_films.load('french-freqfilms.sublexstats')\n",
    "#fr_films.import_csv('french-freqfilms.csv', caching=True)"
   ]
  },
  {
   "cell_type": "code",
   "execution_count": 4,
   "metadata": {},
   "outputs": [],
   "source": [
    "all_books = []\n",
    "for i, row in vinckier_matos.iterrows():\n",
    "    x = fr_films.get_all_meanlogstats(row['item'], .000001)\n",
    "    x['item'] = row['item']\n",
    "    x['categ'] = row['categ']\n",
    "    all_books.append(x)\n",
    "    \n",
    "vinckier_stats_books = pd.DataFrame(all_books)\n",
    "\n",
    "vinckier_stats_books.to_csv('vinckier_stats_books.csv', index=False)\n"
   ]
  },
  {
   "cell_type": "code",
   "execution_count": null,
   "metadata": {},
   "outputs": [],
   "source": [
    "all_films = []\n",
    "for i, row in vinckier_matos.iterrows():\n",
    "    x = fr_films.get_all_meanlogstats(row['item'], .000001)\n",
    "    x['item'] = row['item']\n",
    "    x['categ'] = row['categ']\n",
    "    all_films.append(x)\n",
    "    \n",
    "vinckier_stats_films = pd.DataFrame(all_books)\n",
    "vinckier_stats_films.to_csv('vinckier_stats_films.csv', index=False)"
   ]
  },
  {
   "cell_type": "code",
   "execution_count": null,
   "metadata": {},
   "outputs": [],
   "source": []
  }
 ],
 "metadata": {
  "anaconda-cloud": {},
  "kernelspec": {
   "display_name": "Python [default]",
   "language": "python",
   "name": "python3"
  },
  "language_info": {
   "codemirror_mode": {
    "name": "ipython",
    "version": 3
   },
   "file_extension": ".py",
   "mimetype": "text/x-python",
   "name": "python",
   "nbconvert_exporter": "python",
   "pygments_lexer": "ipython3",
   "version": "3.6.6"
  }
 },
 "nbformat": 4,
 "nbformat_minor": 2
}
